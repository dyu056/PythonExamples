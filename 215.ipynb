{
 "cells": [
  {
   "cell_type": "markdown",
   "metadata": {},
   "source": [
    "<h1> Draft report of 215 <h1>"
   ]
  },
  {
   "cell_type": "markdown",
   "metadata": {},
   "source": [
    "<h2> Integrating a known function <h2>"
   ]
  },
  {
   "cell_type": "markdown",
   "metadata": {},
   "source": []
  },
  {
   "cell_type": "code",
   "execution_count": 5,
   "metadata": {},
   "outputs": [],
   "source": [
    "from pylab import *\n",
    "from matplotlib import *\n",
    "from scipy.optimize import curve_fit\n",
    "import matplotlib.pyplot as pyplot\n",
    "import numpy as np\n",
    "import math\n",
    "from scipy.integrate import odeint"
   ]
  },
  {
   "cell_type": "markdown",
   "metadata": {},
   "source": [
    "<p> By putting the following code, the differential equation ... is defined and specified: <p>"
   ]
  },
  {
   "cell_type": "code",
   "execution_count": 7,
   "metadata": {},
   "outputs": [],
   "source": [
    "#Step 1\n",
    "def deriv1(v,t):\n",
    "    return 1.0+2.0*np.sin(3.0*t)"
   ]
  },
  {
   "cell_type": "markdown",
   "metadata": {},
   "source": [
    "By putting the following code, this differential equation is numerically solved by the function odeint."
   ]
  },
  {
   "cell_type": "code",
   "execution_count": 10,
   "metadata": {},
   "outputs": [],
   "source": [
    "#Step 2\n",
    "init = -1.0;\n",
    "step = 0.1;\n",
    "tout = arange(0,10,step)\n",
    "vout = odeint(deriv1,init,tout)\n"
   ]
  },
  {
   "cell_type": "markdown",
   "metadata": {},
   "source": [
    "Then, the numerical output is compared with the analytical solution of this differential equation, which is supposed to be overlapping perfectly. The plot has sucessfully shows that the numerical solution overlaps with the analytical solution well, which fits with what I have expected."
   ]
  },
  {
   "cell_type": "code",
   "execution_count": null,
   "metadata": {},
   "outputs": [],
   "source": [
    "#Step 3\n",
    "vanalyt = tout - (1.0+2.0*cos(3.0*tout))/3.0;\n",
    "plot(tout,vout,'x')\n",
    "plot(tout,vout,'x')"
   ]
  }
 ],
 "metadata": {
  "kernelspec": {
   "display_name": "Python 3",
   "language": "python",
   "name": "python3"
  },
  "language_info": {
   "codemirror_mode": {
    "name": "ipython",
    "version": 3
   },
   "file_extension": ".py",
   "mimetype": "text/x-python",
   "name": "python",
   "nbconvert_exporter": "python",
   "pygments_lexer": "ipython3",
   "version": "3.7.6"
  }
 },
 "nbformat": 4,
 "nbformat_minor": 4
}
