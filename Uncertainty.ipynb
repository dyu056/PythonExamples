{
 "cells": [
  {
   "cell_type": "code",
   "execution_count": 1,
   "metadata": {},
   "outputs": [],
   "source": [
    "from uncertainties import * \n",
    "from math import *\n",
    "from uncertainties.umath import *\n",
    "import numpy as np"
   ]
  },
  {
   "cell_type": "code",
   "execution_count": 7,
   "metadata": {},
   "outputs": [
    {
     "name": "stdout",
     "output_type": "stream",
     "text": [
      "2.6064+/-0.0011\n",
      "9.78796869702826+/-0.008199896703596174\n"
     ]
    }
   ],
   "source": [
    "#Step 12: Final result calculation\n",
    "\n",
    "L = 1.710130;\n",
    "Le = 0.000024;\n",
    "LeDL = Le/L;  #Relative error\n",
    "L = ufloat(L,Le)\n",
    "\n",
    "#Radius\n",
    "r_b = 0.025270;\n",
    "r_be = 0.000010;\n",
    "r_b = ufloat(r_b,r_be)\n",
    "\n",
    "r_w = 0.0178e-3\n",
    "r_we = 0.005e-3\n",
    "r_weDr_w = r_we/r_w; #Relative error\n",
    "r_w = ufloat(r_w,r_we)\n",
    "\n",
    "m_k = 13.49e-3\n",
    "m_ke = 0.005e-3\n",
    "m_keDm_k = m_ke/m_k; #Relative error\n",
    "m_k = ufloat(m_k,m_ke)\n",
    "\n",
    "m_w = 0.001466;\n",
    "m_we = 0.000009;\n",
    "m_w = ufloat(m_w,m_we)\n",
    "\n",
    "m_b = 530.20e-3\n",
    "m_be = 0.05e-3\n",
    "m_beDm_b = m_be/m_b; #Relative error\n",
    "m_b = ufloat(m_b,m_be)\n",
    "\n",
    "gexp = 9.799403\n",
    "gexpe = 0.000002\n",
    "gexpeDgexp = gexpe/gexp; #Relative error\n",
    "gexp = ufloat(gexp,gexpe)\n",
    "\n",
    "T = 2.609833333333333\n",
    "Te = 2.884224332468026e-4\n",
    "TeDT = Te/T; #Relative error\n",
    "T = ufloat(T,Te)\n",
    "\n",
    "#Correction (Step 12)\n",
    "a1 = ufloat(10,1);\n",
    "a2 = ufloat(7,2);\n",
    "a1 = a1 * pi / 180;\n",
    "a2 = a2 * pi / 180;\n",
    "T = T*(1 - a1*a2/16)\n",
    "\n",
    "#Accurate expectation\n",
    "l_b = L - r_b;\n",
    "l_w = L - r_b*2;\n",
    "\n",
    "A1 = (m_b*l_b**2 + (2/5)*m_b*r_b**2 + (1/3)*m_w*l_w**2 + (1/4)*m_w*r_w**2)/(m_b*l_b + (1/2)*m_w*l_w);\n",
    "gobs = 4*(pi**2)*A1/(T**2);\n",
    "\n",
    "print(T)\n",
    "print(repr(gobs))"
   ]
  },
  {
   "cell_type": "code",
   "execution_count": 8,
   "metadata": {},
   "outputs": [
    {
     "data": {
      "text/plain": [
       "1.394444757666883+/-0.00024390551153197736"
      ]
     },
     "execution_count": 8,
     "metadata": {},
     "output_type": "execute_result"
    }
   ],
   "source": [
    "(gexp-9.78796869702826)/0.008199896703596174"
   ]
  },
  {
   "cell_type": "code",
   "execution_count": 12,
   "metadata": {},
   "outputs": [
    {
     "name": "stdout",
     "output_type": "stream",
     "text": [
      "17.1+/-0.5\n",
      "0.294+/-0.009\n"
     ]
    }
   ],
   "source": [
    "maxm = ufloat(275.4,0.1);\n",
    "fivep = ufloat(292.5,0.5);\n",
    "print(fivep-maxm)\n",
    "angle = (fivep-maxm) * pi / 180;\n",
    "n = 1.0003;\n",
    "NA = n * sin(angle)\n",
    "print(NA)"
   ]
  },
  {
   "cell_type": "code",
   "execution_count": 5,
   "metadata": {},
   "outputs": [
    {
     "name": "stdout",
     "output_type": "stream",
     "text": [
      "5.9+/-1.2\n"
     ]
    }
   ],
   "source": [
    "Pt = ufloat(0.2238,0.0012);\n",
    "P0 = ufloat(0.500,0.002);\n",
    "R = Pt/P0;\n",
    "L = ufloat(595.6992,595.6992*0.2);\n",
    "a = log(R)*4343/(-1*L);\n",
    "print(a)"
   ]
  },
  {
   "cell_type": "code",
   "execution_count": null,
   "metadata": {},
   "outputs": [],
   "source": []
  }
 ],
 "metadata": {
  "kernelspec": {
   "display_name": "Python 3",
   "language": "python",
   "name": "python3"
  },
  "language_info": {
   "codemirror_mode": {
    "name": "ipython",
    "version": 3
   },
   "file_extension": ".py",
   "mimetype": "text/x-python",
   "name": "python",
   "nbconvert_exporter": "python",
   "pygments_lexer": "ipython3",
   "version": "3.7.6"
  }
 },
 "nbformat": 4,
 "nbformat_minor": 4
}
